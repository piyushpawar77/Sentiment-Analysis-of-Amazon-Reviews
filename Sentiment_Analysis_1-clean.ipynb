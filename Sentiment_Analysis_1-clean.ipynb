{
 "cells": [
  {
   "cell_type": "code",
   "execution_count": null,
   "metadata": {
    "id": "AP_rAl3nmbYw"
   },
   "outputs": [],
   "source": [
    "# ===============================================================\n",
    "#                   IMPORTING LIBRARIES\n",
    "# ===============================================================\n",
    "\n",
    "# Data manipulation and analysis\n",
    "import pandas as pd\n",
    "import numpy as np\n",
    "\n",
    "# Data visualization\n",
    "import matplotlib.pyplot as plt\n",
    "import seaborn as sns\n",
    "import plotly.express as px\n",
    "plt.style.use('ggplot')  # Use ggplot style for matplotlib\n",
    "sns.set_palette('Set2')  # Set default color palette for seaborn\n",
    "\n",
    "# Text processing\n",
    "import re  # Regular expressions for text cleaning\n",
    "from wordcloud import WordCloud, STOPWORDS  # Word clouds and stopwords\n",
    "\n",
    "# Machine learning / NLP\n",
    "import torch  # PyTorch for transformer models\n",
    "from sklearn.feature_extraction.text import TfidfVectorizer  # Feature extraction from text\n",
    "from sklearn.decomposition import PCA  # Dimensionality reduction for visualization\n",
    "from sklearn.metrics import classification_report  # Model evaluation metrics"
   ]
  },
  {
   "cell_type": "code",
   "execution_count": null,
   "metadata": {
    "colab": {
     "base_uri": "https://localhost:8080/",
     "height": 73
    },
    "id": "_X9KzDXhnhYV",
    "outputId": "80bc482a-6cbe-4d12-cbe7-bba9ee6d23d0"
   },
   "outputs": [],
   "source": [
    "# ===============================================================\n",
    "#                       UPLOAD DATA (Google Colab)\n",
    "# ===============================================================\n",
    "\n",
    "# Upload CSV file(s) from local system into Colab\n",
    "from google.colab import files\n",
    "\n",
    "uploaded = files.upload()  # Opens a file chooser to upload files"
   ]
  },
  {
   "cell_type": "code",
   "execution_count": null,
   "metadata": {
    "colab": {
     "base_uri": "https://localhost:8080/"
    },
    "id": "7SOiBZ6ZmeCz",
    "outputId": "24917353-794a-4433-e5a7-ae89c6d13b7a"
   },
   "outputs": [],
   "source": [
    "# ===============================================================\n",
    "#                     LOAD DATA\n",
    "# ===============================================================\n",
    "\n",
    "# Read the Amazon reviews CSV file into a pandas DataFrame\n",
    "df = pd.read_csv('Reviews.csv')\n",
    "print(\"Original dataset shape:\", df.shape)  # Show number of rows and columns\n",
    "\n",
    "# For quick experimentation, use only the first 500 rows\n",
    "df = df.head(500)\n",
    "print(\"Subset dataset shape:\", df.shape)"
   ]
  },
  {
   "cell_type": "code",
   "execution_count": null,
   "metadata": {
    "colab": {
     "base_uri": "https://localhost:8080/",
     "height": 293
    },
    "id": "QADctwhtvjfG",
    "outputId": "5f36b5a0-8950-49ea-b1e4-dcfa9f340e10"
   },
   "outputs": [],
   "source": [
    "df.head()"
   ]
  },
  {
   "cell_type": "code",
   "execution_count": null,
   "metadata": {
    "colab": {
     "base_uri": "https://localhost:8080/"
    },
    "id": "Xv-9Tzt9v0Qz",
    "outputId": "84de07d0-010c-43e2-a85f-3eda36bdb770"
   },
   "outputs": [],
   "source": [
    "# ===============================================================\n",
    "#                     EXAMINE SAMPLE REVIEW\n",
    "# ===============================================================\n",
    "\n",
    "# Select and print a single example review to understand the text content\n",
    "example = df['Text'][50]\n",
    "print(\"Sample review (50th row):\")\n",
    "print(example)"
   ]
  },
  {
   "cell_type": "code",
   "execution_count": null,
   "metadata": {
    "colab": {
     "base_uri": "https://localhost:8080/"
    },
    "id": "qPndiCanwOVf",
    "outputId": "13190412-8d1c-45fb-da3a-b13ef79c7154"
   },
   "outputs": [],
   "source": [
    "# ===============================================================\n",
    "#                   NLTK SETUP & TOKENIZATION\n",
    "# ===============================================================\n",
    "\n",
    "# Step 1: Ensure a stable version of NLTK is installed\n",
    "!pip uninstall -y nltk\n",
    "!pip install nltk==3.7  # Use a stable version\n",
    "\n",
    "# Step 2: Remove any leftover NLTK data to avoid conflicts\n",
    "!rm -rf /root/nltk_data\n",
    "\n",
    "# Step 3: Import NLTK and download necessary resources\n",
    "import nltk\n",
    "nltk.download('punkt')  # Tokenizer models for splitting text into words\n",
    "\n",
    "# Step 4: Import word tokenizer\n",
    "from nltk.tokenize import word_tokenize\n",
    "\n",
    "# Step 5: Tokenize a sample review to inspect individual words\n",
    "example = df['Text'][50]\n",
    "tokens = word_tokenize(example)\n",
    "print(\"First 10 tokens from sample review:\")\n",
    "print(tokens[:10])"
   ]
  },
  {
   "cell_type": "code",
   "execution_count": null,
   "metadata": {
    "colab": {
     "base_uri": "https://localhost:8080/"
    },
    "id": "nNF1yUlgwVcw",
    "outputId": "2a938e40-b328-4b85-b94c-088bc3745e4f"
   },
   "outputs": [],
   "source": [
    "# ===============================================================\n",
    "#                   PART-OF-SPEECH (POS) TAGGING\n",
    "# ===============================================================\n",
    "\n",
    "# Download the POS tagger model from NLTK\n",
    "nltk.download('averaged_perceptron_tagger')\n",
    "\n",
    "# Run POS tagging on the tokenized sample review\n",
    "# Each token is tagged with its part of speech (e.g., noun, verb, adjective)\n",
    "tagged = nltk.pos_tag(tokens)\n",
    "\n",
    "# Print the first 10 token-POS pairs to inspect the results\n",
    "print(\"First 10 tokens with POS tags:\")\n",
    "print(tagged[:10])\n"
   ]
  },
  {
   "cell_type": "code",
   "execution_count": null,
   "metadata": {
    "colab": {
     "base_uri": "https://localhost:8080/"
    },
    "id": "fn_sl_0D6sVW",
    "outputId": "42e60c7c-0508-469e-81d4-3aa6aad7426d"
   },
   "outputs": [],
   "source": [
    "# ===============================================================\n",
    "#                   NAMED ENTITY (NE) RECOGNITION\n",
    "# ===============================================================\n",
    "\n",
    "# Download the NE chunker model from NLTK\n",
    "nltk.download('maxent_ne_chunker')\n",
    "\n",
    "# Download the words corpus if not already present\n",
    "nltk.download('words')\n",
    "\n",
    "# Run Named Entity chunking on the POS-tagged tokens\n",
    "# This identifies entities like PERSON, ORGANIZATION, GPE (locations), etc.\n",
    "entities = nltk.chunk.ne_chunk(tagged)\n",
    "\n",
    "# Pretty-print the NE tree to inspect identified entities\n",
    "entities.pprint()\n"
   ]
  },
  {
   "cell_type": "code",
   "execution_count": null,
   "metadata": {
    "colab": {
     "base_uri": "https://localhost:8080/"
    },
    "id": "X-JsIyIY69l0",
    "outputId": "5d07e698-f250-4b82-bed1-5272ffb65387"
   },
   "outputs": [],
   "source": [
    "# ===============================================================\n",
    "#                   SENTIMENT ANALYSIS SETUP (VADER)\n",
    "# ===============================================================\n",
    "\n",
    "# Download the VADER lexicon for sentiment scoring\n",
    "nltk.download('vader_lexicon')\n",
    "\n",
    "# Import VADER SentimentIntensityAnalyzer\n",
    "from nltk.sentiment import SentimentIntensityAnalyzer\n",
    "\n",
    "# Import tqdm for progress bars when processing multiple reviews\n",
    "from tqdm.notebook import tqdm\n",
    "\n",
    "# Initialize the VADER sentiment analyzer\n",
    "sia = SentimentIntensityAnalyzer()\n",
    "\n",
    "# VADER is a lexicon and rule-based sentiment analysis tool\n",
    "# that gives positive, neutral, negative, and compound scores for text\n"
   ]
  },
  {
   "cell_type": "code",
   "execution_count": null,
   "metadata": {
    "colab": {
     "base_uri": "https://localhost:8080/"
    },
    "id": "VUsLanr68FUm",
    "outputId": "55b92cef-a6c7-47c9-98b9-93314b679640"
   },
   "outputs": [],
   "source": [
    "# ===============================================================\n",
    "#                   TEST VADER SENTIMENT ON EXAMPLES\n",
    "# ===============================================================\n",
    "\n",
    "# Example 1: Positive sentiment\n",
    "example_text = 'I am so happy!'\n",
    "\n",
    "# Get VADER sentiment scores\n",
    "scores = sia.polarity_scores(example_text)\n",
    "\n",
    "# Print the results\n",
    "print(f\"VADER sentiment scores for example text:\\n{scores}\")\n"
   ]
  },
  {
   "cell_type": "code",
   "execution_count": null,
   "metadata": {
    "colab": {
     "base_uri": "https://localhost:8080/"
    },
    "id": "eEorVmEG8W2X",
    "outputId": "852c0d0d-9897-4ef4-fe7b-ce10ddd7ee9a"
   },
   "outputs": [],
   "source": [
    "# ===============================================================\n",
    "#                   TEST VADER SENTIMENT ON NEGATIVE EXAMPLE\n",
    "# ===============================================================\n",
    "\n",
    "# Example 2: Negative sentiment\n",
    "example_text = 'This is the worst thing ever.'\n",
    "\n",
    "# Get VADER sentiment scores\n",
    "scores = sia.polarity_scores(example_text)\n",
    "\n",
    "# Print the results\n",
    "print(f\"VADER sentiment scores for negative example:\\n{scores}\")\n"
   ]
  },
  {
   "cell_type": "code",
   "execution_count": null,
   "metadata": {
    "colab": {
     "base_uri": "https://localhost:8080/"
    },
    "id": "wlPPVUxX8ZJn",
    "outputId": "f1e55b21-b661-4a1f-baab-35c14a39aee0"
   },
   "outputs": [],
   "source": [
    "# ===============================================================\n",
    "#          TEST VADER SENTIMENT ON A SAMPLE REVIEW\n",
    "# ===============================================================\n",
    "\n",
    "# Use a sample review from the dataset\n",
    "example_text = example  # 50th review from df['Text']\n",
    "\n",
    "# Get VADER sentiment scores for the sample review\n",
    "scores = sia.polarity_scores(example_text)\n",
    "\n",
    "# Print the results\n",
    "print(f\"Sample review text:\\n{example_text}\\n\")\n",
    "print(f\"VADER sentiment scores:\\n{scores}\")\n"
   ]
  },
  {
   "cell_type": "code",
   "execution_count": null,
   "metadata": {
    "colab": {
     "base_uri": "https://localhost:8080/",
     "height": 49,
     "referenced_widgets": [
      "3ae4ce0d4e68459f9222657a9a5d0d4a",
      "ca4a092ae6134032b027f8729152edb0",
      "087890ab879e473797729bbc44dd0611",
      "9dcace6c5d8a4505bbdbb97c808be12d",
      "bfaa32349a2340e0ac450f40b1300748",
      "6e788c9260dc4336bae65bf6ff15e24a",
      "d3f374ba61ae4435ab4958be2e340eb3",
      "f75f70ff45114467b053cbfa99066870",
      "5cb3f8c2232648e98b28e13c6cc13a1c",
      "5c01ec444cac408ab0378c520b2d6245",
      "b98af679a5af452f8759a762543813ae"
     ]
    },
    "id": "yPbNWia-8bnA",
    "outputId": "48a69ab5-f81a-467c-b149-ff41c2c28762"
   },
   "outputs": [],
   "source": [
    "# ===============================================================\n",
    "#             APPLY VADER SENTIMENT TO FULL DATASET\n",
    "# ===============================================================\n",
    "\n",
    "# Initialize an empty dictionary to store sentiment scores\n",
    "res = {}\n",
    "\n",
    "# Loop through each review in the dataset\n",
    "for i, row in tqdm(df.iterrows(), total=len(df)):\n",
    "    text = row['Text']          # Review text\n",
    "    myid = row['Id']            # Unique review ID\n",
    "\n",
    "    # Compute VADER sentiment scores for each review\n",
    "    res[myid] = sia.polarity_scores(text)\n",
    "\n",
    "# The result 'res' will have review IDs as keys and sentiment score dictionaries as values\n"
   ]
  },
  {
   "cell_type": "code",
   "execution_count": null,
   "metadata": {
    "id": "07M2kItR8fP8"
   },
   "outputs": [],
   "source": [
    "# ===============================================================\n",
    "#                 CONVERT SENTIMENT SCORES TO DATAFRAME\n",
    "# ===============================================================\n",
    "\n",
    "# Convert the VADER results dictionary to a DataFrame and transpose it\n",
    "vaders = pd.DataFrame(res).T\n",
    "\n",
    "# Reset index to make 'Id' a column instead of the index\n",
    "vaders = vaders.reset_index().rename(columns={'index': 'Id'})\n",
    "\n",
    "# Merge the VADER sentiment scores with the original dataset to include review metadata\n",
    "vaders = vaders.merge(df, how='left')\n",
    "\n",
    "# Now 'vaders' DataFrame contains:\n",
    "#   - VADER sentiment scores: neg, neu, pos, compound\n",
    "#   - Original review text, score, summary, and other metadata\n"
   ]
  },
  {
   "cell_type": "code",
   "execution_count": null,
   "metadata": {
    "colab": {
     "base_uri": "https://localhost:8080/",
     "height": 380
    },
    "id": "M7_JdVWR8hsK",
    "outputId": "aae03b46-68fe-4976-bd1d-7b97cef02389"
   },
   "outputs": [],
   "source": [
    "# ===============================================================\n",
    "#                INSPECT VADER SENTIMENT DATAFRAME\n",
    "# ===============================================================\n",
    "\n",
    "# Display the first few rows of the merged DataFrame\n",
    "# to verify that VADER sentiment scores and metadata are correctly aligned\n",
    "vaders.head()\n"
   ]
  },
  {
   "cell_type": "code",
   "execution_count": null,
   "metadata": {
    "id": "eYFvF8h38oyP"
   },
   "outputs": [],
   "source": [
    "# ===============================================================\n",
    "#                  IMPORT TRANSFORMERS FOR ROBERTA\n",
    "# ===============================================================\n",
    "\n",
    "# Import AutoTokenizer and AutoModelForSequenceClassification\n",
    "# from Hugging Face Transformers library for sentiment analysis\n",
    "from transformers import AutoTokenizer\n",
    "from transformers import AutoModelForSequenceClassification\n",
    "\n",
    "# Import softmax from scipy to convert raw model outputs into probabilities\n",
    "from scipy.special import softmax\n",
    "\n",
    "# These imports are required to use the RoBERTa-based sentiment model\n",
    "# which will complement VADER with a transformer-based approach\n"
   ]
  },
  {
   "cell_type": "code",
   "execution_count": null,
   "metadata": {
    "colab": {
     "base_uri": "https://localhost:8080/",
     "height": 313,
     "referenced_widgets": [
      "fb10b0f4789145108fc60bcbb2271e7a",
      "ad7420e9af5f4b1899f993c0f14b70ce",
      "7ec9f4c5bb614545953258a59c0aafbc",
      "46555868a83b4089bc1f8461e61dda2b",
      "8520a40d4e4a4c729fed0cfa8d72fc82",
      "df009ac421cd49e285ae759dd83c8c5b",
      "8a729c09218d4f58b6ef5c77dbbe9e25",
      "3981d1af3b074495b0b81ef3cfa1b92b",
      "e7224f48f3594e21b7f07e95c7a9da6e",
      "29306be9284a4452bac0bed1ca65e386",
      "0de5fdac74784552a12cb0f36d9c2f0d",
      "5357f655ed914c70a9c65c5b75768434",
      "8cdfa1a28b8f467fbc37ef582aac326d",
      "ad3056bf8c2544f0a1cb1a3db30f57db",
      "09519572622f4dda98c41209313f9e1c",
      "7dc8e0acd7394626a8beb611afcef7b6",
      "1e9650a5b0924ae1a54bed2cc03262f9",
      "80361c7ff612431ca406b26d68db941d",
      "fd373eef1ebd48d1be389674dc00a6e6",
      "c6628f3922c9485a84fcf1992a13bc41",
      "d8893a5a839a4e4aa5dc32a1f36c4a70",
      "1eb789a5beb141d7ac60ed7f9f49d6d3",
      "3c08b7f70aec46f7bd9c86b462672ce7",
      "4d0b99d20d5f4e39a674b52c7edc18f3",
      "bcbda550b49444659078ba09d4c13116",
      "a71035bb9bc3404fb12694d84076638e",
      "47236345de6b4b9faf3ed99512d808b7",
      "d91f1d22e50c40aa8993e17c0164e382",
      "5e6af96593a248a4aa8b803afca96ed1",
      "ba1353d700e848a8bdd7a939064091c9",
      "8d82eab17e9843989283a61777a599b5",
      "684e9da442b240aa9dfa5ef9117f6ded",
      "faf44dfdc36e457296912ad390bf7a30",
      "5ecb6a0fc7bb4e1ebf917b90a1b8e8b3",
      "2db32fd432ed49238696e423ea57c577",
      "05ac53d6667d4e29b4b83c44c258ee0b",
      "c7ad470f6b184420ac59e65ed508f123",
      "71dfbe23360c4676bb43b5bff09e3297",
      "f2ce50e2f8f2418e8bb24f23210fe9c3",
      "bc51257e67a64066a05cea0356a3e55e",
      "e824ed86fc5544619e965857e099984c",
      "2d3ffc5bc96246118f4a084b5f38906b",
      "4069415727db4d95b306493e50c1dd49",
      "0b6c9c3abd844cc3840f37480ace03b2",
      "44c56c2642fb46499d3d79e3af8049bd",
      "8dd950e422d24fa79cd57f049bcc0492",
      "22a7ffe974c44b10a9e3bcea633ca981",
      "a43eccdbfa3946ada65d3f2e4c99d901",
      "0663c51f367b454281f1076ba8e0a223",
      "31e018f2ecff4464a8c3447844fd75d6",
      "21f18d5251194d9a8caa9376b01f3472",
      "54226b58df8242cd85f71e55eed15130",
      "19bc8fd14d48470cae8ac10c1ffa19e1",
      "7d95d5cf3c03430b8580dadfe7f510b0",
      "28db4a0f54de4cf5920789cb106eb2cd",
      "c66c1f6d1e694302a25b701239ad3a3e",
      "10b1594312c04ea0b21198488c4de20e",
      "9bfc29c1d82e402387131bec43192a5b",
      "82e4d3b4fca8477ea130b7fdde039e6f",
      "8fe39302c2c046daa93e081277baac6e",
      "d30a971f196846fba4842c16dce23912",
      "c90dcaeb718046c4a6b081fe99676c98",
      "26931d1631a041a7b38ef67e429efec2",
      "c6ce17dd4b0f4a74911f547341f9969e",
      "dc23a72fecbf46a8bf2c98593f60f2ca",
      "57c1582aa56d484b8566d37a2bd5b13e"
     ]
    },
    "id": "cFo3bCDJ8rVH",
    "outputId": "c5e07dfe-aa8f-464d-cae0-7e96ecb468e3"
   },
   "outputs": [],
   "source": [
    "# ===============================================================\n",
    "#              INITIALIZE ROBERTA SENTIMENT MODEL\n",
    "# ===============================================================\n",
    "\n",
    "# Define the pre-trained RoBERTa sentiment analysis model from CardiffNLP\n",
    "MODEL = \"cardiffnlp/twitter-roberta-base-sentiment\"\n",
    "\n",
    "# Load the tokenizer corresponding to the model\n",
    "tokenizer = AutoTokenizer.from_pretrained(MODEL)\n",
    "\n",
    "# Load the pre-trained model for sequence classification\n",
    "model = AutoModelForSequenceClassification.from_pretrained(MODEL)\n",
    "\n",
    "# This RoBERTa model will predict negative, neutral, and positive sentiment\n",
    "# for each review, complementing the VADER lexicon-based scores\n"
   ]
  },
  {
   "cell_type": "code",
   "execution_count": null,
   "metadata": {
    "colab": {
     "base_uri": "https://localhost:8080/"
    },
    "id": "zILy-oGE87Hw",
    "outputId": "fa20abaa-e1fd-4a87-bbd2-55f7298b4681"
   },
   "outputs": [],
   "source": [
    "# ===============================================================\n",
    "#         COMPARE VADER SENTIMENT ON SAMPLE REVIEW\n",
    "# ===============================================================\n",
    "\n",
    "# Print the sample review text\n",
    "print(\"Sample review text:\")\n",
    "print(example)\n",
    "\n",
    "# Get VADER sentiment scores for the sample review\n",
    "vader_scores = sia.polarity_scores(example)\n",
    "\n",
    "# Print VADER sentiment scores\n",
    "print(\"\\nVADER sentiment scores:\")\n",
    "print(vader_scores)\n",
    "\n",
    "# This allows us to compare VADER's output with RoBERTa's sentiment scores later\n"
   ]
  },
  {
   "cell_type": "code",
   "execution_count": null,
   "metadata": {
    "colab": {
     "base_uri": "https://localhost:8080/"
    },
    "id": "-ly_NLE39J3t",
    "outputId": "933c70a2-beb7-4a84-dfce-ab459a3c84a8"
   },
   "outputs": [],
   "source": [
    "# ===============================================================\n",
    "#          COMPUTE ROBERTA SENTIMENT ON SAMPLE REVIEW\n",
    "# ===============================================================\n",
    "\n",
    "# Encode the sample review text for RoBERTa\n",
    "encoded_text = tokenizer(example, return_tensors='pt')\n",
    "\n",
    "# Pass the encoded text through the RoBERTa model\n",
    "output = model(**encoded_text)\n",
    "\n",
    "# Extract raw model outputs (logits) and convert to numpy array\n",
    "scores = output[0][0].detach().numpy()\n",
    "\n",
    "# Apply softmax to convert logits into probabilities\n",
    "scores = softmax(scores)\n",
    "\n",
    "# Create a dictionary mapping sentiment categories to their probabilities\n",
    "scores_dict = {\n",
    "    'roberta_neg': scores[0],\n",
    "    'roberta_neu': scores[1],\n",
    "    'roberta_pos': scores[2]\n",
    "}\n",
    "\n",
    "# Print RoBERTa sentiment scores for the sample review\n",
    "print(\"RoBERTa sentiment scores:\")\n",
    "print(scores_dict)\n",
    "\n",
    "# This allows comparison of transformer-based sentiment with VADER output\n"
   ]
  },
  {
   "cell_type": "code",
   "execution_count": null,
   "metadata": {
    "id": "M9MOFsTa9NTb"
   },
   "outputs": [],
   "source": [
    "# ===============================================================\n",
    "#          FUNCTION TO COMPUTE ROBERTA SENTIMENT SCORES\n",
    "# ===============================================================\n",
    "\n",
    "def polarity_scores_roberta(example):\n",
    "    \"\"\"\n",
    "    Computes RoBERTa sentiment scores for a given text.\n",
    "\n",
    "    Args:\n",
    "        example (str): The text/review to analyze.\n",
    "\n",
    "    Returns:\n",
    "        dict: Dictionary with probabilities for negative, neutral, and positive sentiment.\n",
    "    \"\"\"\n",
    "    # Encode the text for the RoBERTa model\n",
    "    encoded_text = tokenizer(example, return_tensors='pt')\n",
    "\n",
    "    # Pass the encoded text through the model\n",
    "    output = model(**encoded_text)\n",
    "\n",
    "    # Extract logits and convert to numpy array\n",
    "    scores = output[0][0].detach().numpy()\n",
    "\n",
    "    # Apply softmax to convert logits to probabilities\n",
    "    scores = softmax(scores)\n",
    "\n",
    "    # Create dictionary of sentiment probabilities\n",
    "    scores_dict = {\n",
    "        'roberta_neg': scores[0],\n",
    "        'roberta_neu': scores[1],\n",
    "        'roberta_pos': scores[2]\n",
    "    }\n",
    "\n",
    "    return scores_dict\n",
    "\n",
    "# This function allows batch processing of reviews for RoBERTa sentiment analysis\n"
   ]
  },
  {
   "cell_type": "code",
   "execution_count": null,
   "metadata": {
    "colab": {
     "base_uri": "https://localhost:8080/",
     "height": 84,
     "referenced_widgets": [
      "bfb0126705534359a573a9a2fad16b03",
      "e50600ac3fe04e3ba0c3c02a733f14e7",
      "c5a1fd367566414a8588815b7344e67f",
      "6da513f4509545519c7d134f44542b5c",
      "e437a728125648f694712e8e7711579c",
      "db79e19ef6484a4ab8b0e5703edcfa53",
      "61b84cfc7c9c458a932430e509132cec",
      "7ec795843357432c8711bc838c18aa6f",
      "a94e5f441f094873a56475314d6c6e1f",
      "a8e9a061adbb4c2395a825682095eb3e",
      "8314dc4d05d44f5b862f95e391018d93"
     ]
    },
    "id": "SwHlwIZp9QXD",
    "outputId": "1909ea57-ce41-42f4-cd88-6d65645e1d1a"
   },
   "outputs": [],
   "source": [
    "# ===============================================================\n",
    "#      APPLY VADER AND ROBERTA SENTIMENT TO FULL DATASET\n",
    "# ===============================================================\n",
    "\n",
    "# Initialize a dictionary to store combined sentiment scores\n",
    "res = {}\n",
    "\n",
    "# Loop through each review in the dataset\n",
    "for i, row in tqdm(df.iterrows(), total=len(df)):\n",
    "    try:\n",
    "        text = row['Text']     # Review text\n",
    "        myid = row['Id']       # Unique review ID\n",
    "\n",
    "        # Compute VADER sentiment scores\n",
    "        vader_result = sia.polarity_scores(text)\n",
    "\n",
    "        # Rename VADER keys to avoid conflicts\n",
    "        vader_result_rename = {f\"vader_{key}\": value for key, value in vader_result.items()}\n",
    "\n",
    "        # Compute RoBERTa sentiment scores using the previously defined function\n",
    "        roberta_result = polarity_scores_roberta(text)\n",
    "\n",
    "        # Merge both VADER and RoBERTa results\n",
    "        both = {**vader_result_rename, **roberta_result}\n",
    "\n",
    "        # Store the combined scores in the dictionary\n",
    "        res[myid] = both\n",
    "\n",
    "    except RuntimeError:\n",
    "        # Catch and report any runtime errors for problematic rows\n",
    "        print(f'Broke for id {myid}')\n",
    "\n",
    "# 'res' now contains combined sentiment scores for all reviews in the dataset\n"
   ]
  },
  {
   "cell_type": "code",
   "execution_count": null,
   "metadata": {
    "id": "phktz9F79Szg"
   },
   "outputs": [],
   "source": [
    "# ===============================================================\n",
    "#       CONVERT COMBINED SENTIMENT SCORES TO DATAFRAME\n",
    "# ===============================================================\n",
    "\n",
    "# Convert the dictionary of combined VADER and RoBERTa scores to a DataFrame\n",
    "results_df = pd.DataFrame(res).T\n",
    "\n",
    "# Reset the index to move 'Id' from index to a column\n",
    "results_df = results_df.reset_index().rename(columns={'index': 'Id'})\n",
    "\n",
    "# Merge the sentiment scores with the original dataset to include review metadata\n",
    "results_df = results_df.merge(df, how='left')\n",
    "\n",
    "# Now 'results_df' contains:\n",
    "#   - VADER sentiment scores: vader_neg, vader_neu, vader_pos, vader_compound\n",
    "#   - RoBERTa sentiment scores: roberta_neg, roberta_neu, roberta_pos\n",
    "#   - Original review metadata: Text, Score, Summary, etc.\n"
   ]
  },
  {
   "cell_type": "code",
   "execution_count": null,
   "metadata": {
    "colab": {
     "base_uri": "https://localhost:8080/"
    },
    "id": "PXdrKIvJ-JzL",
    "outputId": "95e4fd1f-c566-475a-8d00-6a4f0144a3f1"
   },
   "outputs": [],
   "source": [
    "# ===============================================================\n",
    "#            INSPECT COLUMNS OF THE RESULTS DATAFRAME\n",
    "# ===============================================================\n",
    "\n",
    "# Display all column names in the results dataframe\n",
    "# to verify that VADER, RoBERTa scores, and metadata are included\n",
    "results_df.columns\n"
   ]
  },
  {
   "cell_type": "code",
   "execution_count": null,
   "metadata": {
    "colab": {
     "base_uri": "https://localhost:8080/"
    },
    "id": "SPf4sfaZ-Ok-",
    "outputId": "3d547349-f9b0-4387-cb57-2387aabc5310"
   },
   "outputs": [],
   "source": [
    "# ===============================================================\n",
    "#     INSPECT HIGHEST POSITIVE ROBERTA SCORE FOR 1-STAR REVIEWS\n",
    "# ===============================================================\n",
    "\n",
    "# Find the 1-star review with the highest RoBERTa positive sentiment score\n",
    "most_positive_1star = results_df.query('Score == 1') \\\n",
    "    .sort_values('roberta_pos', ascending=False)['Text'].values[0]\n",
    "\n",
    "# Print the review text\n",
    "print(\"1-star review with highest RoBERTa positive score:\")\n",
    "print(most_positive_1star)\n",
    "\n",
    "# This helps identify reviews where RoBERTa disagrees with the star rating,\n",
    "# useful for error analysis or model evaluation\n"
   ]
  },
  {
   "cell_type": "code",
   "execution_count": null,
   "metadata": {
    "colab": {
     "base_uri": "https://localhost:8080/"
    },
    "id": "fZbnfpY5-cQV",
    "outputId": "a0cbb01f-0334-4277-f3ff-0b712f961898"
   },
   "outputs": [],
   "source": [
    "# ===============================================================\n",
    "#     INSPECT HIGHEST POSITIVE VADER SCORE FOR 1-STAR REVIEWS\n",
    "# ===============================================================\n",
    "\n",
    "# Find the 1-star review with the highest VADER positive sentiment score\n",
    "most_positive_1star_vader = results_df.query('Score == 1') \\\n",
    "    .sort_values('vader_pos', ascending=False)['Text'].values[0]\n",
    "\n",
    "# Print the review text\n",
    "print(\"1-star review with highest VADER positive score:\")\n",
    "print(most_positive_1star_vader)\n",
    "\n",
    "# This helps identify cases where VADER sentiment contradicts the star rating,\n",
    "# useful for model comparison and error analysis\n"
   ]
  },
  {
   "cell_type": "code",
   "execution_count": null,
   "metadata": {
    "colab": {
     "base_uri": "https://localhost:8080/"
    },
    "id": "z0D0hQnG-eHj",
    "outputId": "79157154-8b5f-40cc-839d-e9c0eaa8e1a4"
   },
   "outputs": [],
   "source": [
    "# ===============================================================\n",
    "#     INSPECT HIGHEST NEGATIVE ROBERTA SCORE FOR 5-STAR REVIEWS\n",
    "# ===============================================================\n",
    "\n",
    "# Find the 5-star review with the highest RoBERTa negative sentiment score\n",
    "most_negative_5star = results_df.query('Score == 5') \\\n",
    "    .sort_values('roberta_neg', ascending=False)['Text'].values[0]\n",
    "\n",
    "# Print the review text\n",
    "print(\"5-star review with highest RoBERTa negative score:\")\n",
    "print(most_negative_5star)\n",
    "\n",
    "# This helps identify cases where RoBERTa sentiment contradicts the star rating,\n",
    "# useful for error analysis and understanding model limitations\n"
   ]
  },
  {
   "cell_type": "code",
   "execution_count": null,
   "metadata": {
    "colab": {
     "base_uri": "https://localhost:8080/"
    },
    "id": "WjN45cVH-iUl",
    "outputId": "5aa811e5-3574-4977-c6f1-3b9127828b39"
   },
   "outputs": [],
   "source": [
    "# ===============================================================\n",
    "#     INSPECT HIGHEST NEGATIVE VADER SCORE FOR 5-STAR REVIEWS\n",
    "# ===============================================================\n",
    "\n",
    "# Find the 5-star review with the highest VADER negative sentiment score\n",
    "most_negative_5star_vader = results_df.query('Score == 5') \\\n",
    "    .sort_values('vader_neg', ascending=False)['Text'].values[0]\n",
    "\n",
    "# Print the review text\n",
    "print(\"5-star review with highest VADER negative score:\")\n",
    "print(most_negative_5star_vader)\n",
    "\n",
    "# This helps identify cases where VADER sentiment contradicts the star rating,\n",
    "# useful for comparing model outputs and evaluating performance\n"
   ]
  },
  {
   "cell_type": "code",
   "execution_count": null,
   "metadata": {
    "colab": {
     "base_uri": "https://localhost:8080/",
     "height": 217,
     "referenced_widgets": [
      "671b3bb1330348e4a76b3f4b9bd8d828",
      "fabfb6cf8b1a473c96cbe8ae332ee732",
      "dbd273d152b046cdbaeb09176cb7cb25",
      "56fd653623004c4b854acaea6c9874c2",
      "20826e7c12dc42688f0200ad1e9c4555",
      "aaea969254024a359e6348361bbbfe8b",
      "6aed2e1819424f0eaf005d0218d48adf",
      "5c03893c84314a098f7a0a82012c78e5",
      "38503073a82d4d19b35b08a8a52301e0",
      "ead377fa68ec4165ba713632dd1d187c",
      "c115917281824ce984b863b7ef4815d8",
      "1b9c98f0192a48f28e227a0432d01fb8",
      "67055130c1b8423ca2b1587eb14fb6af",
      "26ab220cb9524a52b4570bcfdfa36302",
      "e7be3c3168d64fa88020defc75e26cf6",
      "406c4e921dc041e0b41c172c00d7b40e",
      "7638699bd1f34f05987d022a63eee7bf",
      "fdd25377e1564645b93589b6590b935e",
      "d2500debfce9477db5b682391963458f",
      "7f75c40eb3094ea6b5ae6af6bdf9c105",
      "ccca2a6487e649c39a5dd3f5001e7335",
      "913907b27dff4fa2964c91328c884e8e",
      "718793232f1b41eab650ef5948c2b450",
      "5c9d87943a9244b5a338a7f18f2d1184",
      "9077bcd625c4452eab34ecf9f6dc3e66",
      "38d105e2699143689da8cc7c90abb909",
      "bb584f11daf84ae49fcc91846211b481",
      "637311547d7c49ae895ca8d502bc8718",
      "7a66e151a282499eb24ddc6ac82abbca",
      "dadd917bc83e4a2a8f97ae7c18650af5",
      "41f7b2afbecb490586d227e561a64318",
      "704b32a935f645c2b775d538850f9184",
      "85ae9c16c91d46b495bceeb85e92e29a",
      "e358784368c24c03879710019cca19ac",
      "ebb3bc7a2d4a4692a374cb6e241e25d6",
      "60bb122f1b114b6ab5314f0cc505d436",
      "d9a2decb7c8f4c0cad2adeb2d9b1e556",
      "11dada4a185f4cbd8f9126cdd07b9cc2",
      "ba4757fdd9524396b547af5d3d579bfb",
      "b46bcc5ff75648bc9e85310d33bdccda",
      "667fba59f3f848a495e7a1f3d553b515",
      "9adaf44e11dd46d595dbd8b093936d1b",
      "939829492f5f4b3c9282dfe46a77ed9b",
      "b20443541ff3494c99c9474626d6cefe"
     ]
    },
    "id": "AlZAmVk7-kew",
    "outputId": "6fc0c30b-297f-496c-ca43-e6087301788f"
   },
   "outputs": [],
   "source": [
    "# ===============================================================\n",
    "#          INITIALIZE HUGGINGFACE SENTIMENT PIPELINE\n",
    "# ===============================================================\n",
    "\n",
    "from transformers import pipeline\n",
    "# Load a pre-built sentiment analysis pipeline from Hugging Face\n",
    "# This pipeline can classify text as positive or negative sentiment\n",
    "sent_pipeline = pipeline(\"sentiment-analysis\")\n",
    "\n",
    "# This provides a simple, high-level alternative to VADER and RoBERTa models\n",
    "# Useful for quick sentiment predictions on sample texts\n"
   ]
  },
  {
   "cell_type": "code",
   "execution_count": null,
   "metadata": {
    "colab": {
     "base_uri": "https://localhost:8080/"
    },
    "id": "O27gFWlCAZpG",
    "outputId": "fde22278-e6c2-4ee9-e4a7-7d2c8c60703f"
   },
   "outputs": [],
   "source": [
    "# ===============================================================\n",
    "#          TEST HUGGINGFACE SENTIMENT PIPELINE ON POSITIVE TEXT\n",
    "# ===============================================================\n",
    "\n",
    "# Use the Hugging Face pipeline to predict sentiment for a positive text\n",
    "example_text = 'I love sentiment analysis!'\n",
    "prediction = sent_pipeline(example_text)\n",
    "\n",
    "# Print the predicted sentiment\n",
    "print(f\"Text: {example_text}\")\n",
    "print(f\"Predicted sentiment: {prediction}\")\n",
    "\n",
    "# This demonstrates the pipeline's ability to classify clearly positive statements\n"
   ]
  },
  {
   "cell_type": "code",
   "execution_count": null,
   "metadata": {
    "colab": {
     "base_uri": "https://localhost:8080/"
    },
    "id": "IF6elSi-AeUJ",
    "outputId": "2af75485-7800-42ae-a7df-97b5db280b56"
   },
   "outputs": [],
   "source": [
    "# ===============================================================\n",
    "#        TEST HUGGINGFACE SENTIMENT PIPELINE ON NEUTRAL TEXT\n",
    "# ===============================================================\n",
    "\n",
    "# Example of a neutral/factual statement\n",
    "example_text = 'Make sure to like and subscribe!'\n",
    "prediction = sent_pipeline(example_text)\n",
    "\n",
    "# Print the predicted sentiment\n",
    "print(f\"Text: {example_text}\")\n",
    "print(f\"Predicted sentiment: {prediction}\")\n",
    "\n",
    "# This demonstrates how the pipeline handles statements that are\n",
    "# more neutral or directive rather than clearly positive or negative\n"
   ]
  },
  {
   "cell_type": "code",
   "execution_count": null,
   "metadata": {
    "colab": {
     "base_uri": "https://localhost:8080/"
    },
    "id": "tyNvF7AnAkd9",
    "outputId": "a4e6d9fc-d8bc-486d-99d0-48d1ea2161a4"
   },
   "outputs": [],
   "source": [
    "# ===============================================================\n",
    "#        TEST HUGGINGFACE SENTIMENT PIPELINE ON NEGATIVE TEXT\n",
    "# ===============================================================\n",
    "\n",
    "# Example of a clearly negative expression\n",
    "example_text = 'booo'\n",
    "prediction = sent_pipeline(example_text)\n",
    "\n",
    "# Print the predicted sentiment\n",
    "print(f\"Text: {example_text}\")\n",
    "print(f\"Predicted sentiment: {prediction}\")\n",
    "\n",
    "# This demonstrates how the pipeline identifies negative sentiment,\n",
    "# useful for verifying model behavior on short or informal texts\n"
   ]
  },
  {
   "cell_type": "code",
   "execution_count": null,
   "metadata": {
    "colab": {
     "base_uri": "https://localhost:8080/",
     "height": 487
    },
    "id": "AG9z1E3zvlNk",
    "outputId": "fc5c8cf6-e8de-4c66-94ea-708b114e3c3a"
   },
   "outputs": [],
   "source": [
    "# ===============================================================\n",
    "#          BAR PLOT OF REVIEW COUNTS BY STAR RATING\n",
    "# ===============================================================\n",
    "\n",
    "# Plot the distribution of reviews across star ratings\n",
    "ax = df['Score'].value_counts().sort_index().plot(\n",
    "    kind='bar',\n",
    "    title='Count of Reviews by Stars',\n",
    "    figsize=(10, 5)\n",
    ")\n",
    "\n",
    "# Label the x-axis\n",
    "ax.set_xlabel('Review Stars')\n",
    "\n",
    "# Display the plot\n",
    "plt.show()\n",
    "\n",
    "# This visualization helps stakeholders quickly see the distribution\n",
    "# of reviews and identify whether there is class imbalance in the dataset\n"
   ]
  },
  {
   "cell_type": "code",
   "execution_count": null,
   "metadata": {
    "colab": {
     "base_uri": "https://localhost:8080/",
     "height": 564
    },
    "id": "3SH8dZYs8j4f",
    "outputId": "f10b2616-9bbc-48e4-e418-b137a71188ca"
   },
   "outputs": [],
   "source": [
    "# ===============================================================\n",
    "#       BAR PLOT OF AVERAGE VADER SENTIMENT BY STAR RATING\n",
    "# ===============================================================\n",
    "\n",
    "# Create a bar plot showing the average VADER compound sentiment\n",
    "# for each star rating\n",
    "ax = sns.barplot(\n",
    "    data=results_df,\n",
    "    x='Score',\n",
    "    y='vader_compound',\n",
    "    palette='Set2'\n",
    ")\n",
    "\n",
    "# Set the plot title\n",
    "ax.set_title('Average VADER Sentiment by Star Rating')\n",
    "\n",
    "# Display the plot\n",
    "plt.show()\n",
    "\n",
    "# This visualization allows stakeholders to easily see the\n",
    "# correlation between star ratings and VADER sentiment scores,\n",
    "# showing whether higher stars correspond to more positive sentiment\n"
   ]
  },
  {
   "cell_type": "code",
   "execution_count": null,
   "metadata": {
    "colab": {
     "base_uri": "https://localhost:8080/",
     "height": 307
    },
    "id": "HS-2OyEF8meY",
    "outputId": "d559d980-1e8d-477b-d089-0073469803d3"
   },
   "outputs": [],
   "source": [
    "# ===============================================================\n",
    "#       MULTI-BAR PLOTS OF VADER SENTIMENT COMPONENTS\n",
    "# ===============================================================\n",
    "\n",
    "# Create a 1x3 subplot to show VADER sentiment components separately\n",
    "fig, axs = plt.subplots(1, 3, figsize=(12, 3))\n",
    "\n",
    "# Bar plot of positive sentiment by star rating\n",
    "sns.barplot(data=vaders, x='Score', y='pos', ax=axs[0])\n",
    "axs[0].set_title('Positive')\n",
    "\n",
    "# Bar plot of neutral sentiment by star rating\n",
    "sns.barplot(data=vaders, x='Score', y='neu', ax=axs[1])\n",
    "axs[1].set_title('Neutral')\n",
    "\n",
    "# Bar plot of negative sentiment by star rating\n",
    "sns.barplot(data=vaders, x='Score', y='neg', ax=axs[2])\n",
    "axs[2].set_title('Negative')\n",
    "\n",
    "# Adjust layout to prevent overlap\n",
    "plt.tight_layout()\n",
    "plt.show()\n",
    "\n",
    "# This visualization allows stakeholders to easily see how\n",
    "# positive, neutral, and negative sentiment components vary\n",
    "# across star ratings, providing a detailed breakdown of VADER scores\n"
   ]
  },
  {
   "cell_type": "code",
   "execution_count": null,
   "metadata": {
    "colab": {
     "base_uri": "https://localhost:8080/",
     "height": 271
    },
    "id": "VdMuPEJ5SrOh",
    "outputId": "6eda62ed-409c-4fa3-f0da-2db4d248582c"
   },
   "outputs": [],
   "source": [
    "# ===============================================================\n",
    "#                 WORD CLOUDS OF POSITIVE AND NEGATIVE REVIEWS\n",
    "# ===============================================================\n",
    "\n",
    "# Combine all texts for positive (4-5 stars) and negative (1-2 stars) reviews\n",
    "positive_text = ' '.join(results_df[results_df['Score'] >= 4]['Text'])\n",
    "negative_text = ' '.join(results_df[results_df['Score'] <= 2]['Text'])\n",
    "\n",
    "# Generate WordClouds\n",
    "wc_pos = WordCloud(\n",
    "    stopwords=STOPWORDS,\n",
    "    background_color='white',\n",
    "    colormap='Greens'\n",
    ").generate(positive_text)\n",
    "\n",
    "wc_neg = WordCloud(\n",
    "    stopwords=STOPWORDS,\n",
    "    background_color='white',\n",
    "    colormap='Reds'\n",
    ").generate(negative_text)\n",
    "\n",
    "# Plot the word clouds side by side\n",
    "plt.figure(figsize=(12,5))\n",
    "\n",
    "# Positive reviews\n",
    "plt.subplot(1,2,1)\n",
    "plt.imshow(wc_pos, interpolation='bilinear')\n",
    "plt.axis('off')\n",
    "plt.title(\"Positive Reviews WordCloud\")\n",
    "\n",
    "# Negative reviews\n",
    "plt.subplot(1,2,2)\n",
    "plt.imshow(wc_neg, interpolation='bilinear')\n",
    "plt.axis('off')\n",
    "plt.title(\"Negative Reviews WordCloud\")\n",
    "\n",
    "plt.show()\n",
    "\n",
    "# This visualization helps stakeholders quickly see the most frequent\n",
    "# words in positive vs. negative reviews, making sentiment patterns intuitive\n"
   ]
  },
  {
   "cell_type": "code",
   "execution_count": null,
   "metadata": {
    "colab": {
     "base_uri": "https://localhost:8080/",
     "height": 1000
    },
    "id": "m0VvvEizO3kj",
    "outputId": "ed2f2f92-79f0-4fa6-f77b-4aeb77ad8746"
   },
   "outputs": [],
   "source": [
    "# ===============================================================\n",
    "#       VIOLIN PLOTS OF SENTIMENT SCORES BY STAR RATING\n",
    "# ===============================================================\n",
    "\n",
    "# VADER compound score distribution across star ratings\n",
    "plt.figure(figsize=(12,6))\n",
    "sns.violinplot(\n",
    "    data=results_df,\n",
    "    x='Score',\n",
    "    y='vader_compound',\n",
    "    palette='Set2'\n",
    ")\n",
    "plt.title('VADER Compound Score Distribution by Star Rating')\n",
    "plt.show()\n",
    "\n",
    "# RoBERTa positive sentiment score distribution across star ratings\n",
    "plt.figure(figsize=(12,6))\n",
    "sns.violinplot(\n",
    "    data=results_df,\n",
    "    x='Score',\n",
    "    y='roberta_pos',\n",
    "    palette='Set2'\n",
    ")\n",
    "plt.title('RoBERTa Positive Score Distribution by Star Rating')\n",
    "plt.show()\n",
    "\n",
    "# Violin plots show the full distribution of sentiment scores for each star rating,\n",
    "# including median, quartiles, and density, giving stakeholders a deeper understanding\n",
    "# of sentiment spread beyond average values\n"
   ]
  },
  {
   "cell_type": "code",
   "execution_count": null,
   "metadata": {
    "id": "eRCQO8FETx-S"
   },
   "outputs": [],
   "source": []
  }
 ],
 "metadata": {
  "colab": {
   "provenance": [],
   "toc_visible": true
  },
  "kernelspec": {
   "display_name": "Python 3",
   "name": "python3"
  },
  "language_info": {
   "name": "python"
  }
 },
 "nbformat": 4,
 "nbformat_minor": 0
}
